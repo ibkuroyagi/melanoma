{
 "metadata": {
  "language_info": {
   "codemirror_mode": {
    "name": "ipython",
    "version": 3
   },
   "file_extension": ".py",
   "mimetype": "text/x-python",
   "name": "python",
   "nbconvert_exporter": "python",
   "pygments_lexer": "ipython3",
   "version": "3.6.8-final"
  },
  "orig_nbformat": 2,
  "kernelspec": {
   "name": "python36864bitpy36virtualenvf90ea2acd3874a7f83f59d59c1298e23",
   "display_name": "Python 3.6.8 64-bit ('py36': virtualenv)"
  }
 },
 "nbformat": 4,
 "nbformat_minor": 2,
 "cells": [
  {
   "cell_type": "code",
   "execution_count": 1,
   "metadata": {},
   "outputs": [],
   "source": [
    "import pandas as pd\n",
    "import numpy as np\n",
    "import matplotlib.pyplot as plt\n",
    "from xgboost import XGBClassifier, XGBRegressor\n",
    "import xgboost as xgb\n",
    "from sklearn.model_selection import train_test_split\n",
    "import os\n",
    "import sys\n",
    "from sklearn.model_selection import GridSearchCV\n",
    "from sklearn.model_selection import StratifiedKFold, KFold\n",
    "from sklearn.metrics import accuracy_score, roc_auc_score\n",
    "from scipy.optimize import minimize\n",
    "SEED = 42\n",
    "def feval(pred_proba, dtrain):\n",
    "    y_true = dtrain.get_label().astype(int)\n",
    "    roc = roc_auc_score(y_true, pred_proba)\n",
    "    return \"roc\", roc"
   ]
  },
  {
   "cell_type": "code",
   "execution_count": 2,
   "metadata": {
    "tags": []
   },
   "outputs": [
    {
     "output_type": "stream",
     "name": "stdout",
     "text": "Index(['image_name', 'patient_id', 'sex', 'age_approx',\n       'anatom_site_general_challenge', 'width', 'height'],\n      dtype='object')\nIndex(['image_name', 'patient_id', 'sex', 'age_approx',\n       'anatom_site_general_challenge', 'diagnosis', 'benign_malignant',\n       'target', 'tfrecord', 'width', 'height'],\n      dtype='object')\n"
    }
   ],
   "source": [
    "test = pd.read_csv(\"../input/jpeg-melanoma-256x256/test.csv\")\n",
    "train = pd.read_csv(\"../input/jpeg-melanoma-256x256/train.csv\")\n",
    "print(test.columns)\n",
    "print(train.columns)\n"
   ]
  },
  {
   "cell_type": "code",
   "execution_count": 3,
   "metadata": {
    "tags": []
   },
   "outputs": [
    {
     "output_type": "stream",
     "name": "stdout",
     "text": "18 18\n"
    }
   ],
   "source": [
    "oof_list = []\n",
    "sub_list = []\n",
    "futter = [\"\", \"_TTA1\"]\n",
    "No_list = [0, 1, 2]\n",
    "fig_size_list = [256, 384, 512, 768]\n",
    "for fut in futter:\n",
    "    for fig_size in fig_size_list:\n",
    "        for No in No_list:\n",
    "            dir_path = f\"../exp/{fig_size}-{No}\"\n",
    "            oof_path = os.path.join(dir_path, f\"oof_No{No}_{fig_size}{fut}.csv\")\n",
    "            if os.path.isfile(oof_path):\n",
    "                oof_list.append(oof_path)\n",
    "            sub_path = os.path.join(dir_path, f\"submission_No{No}_{fig_size}{fut}.csv\")\n",
    "            if os.path.isfile(sub_path):\n",
    "                sub_list.append(sub_path)\n",
    "print(len(oof_list), len(sub_list))"
   ]
  },
  {
   "cell_type": "code",
   "execution_count": 4,
   "metadata": {
    "tags": []
   },
   "outputs": [
    {
     "output_type": "stream",
     "name": "stdout",
     "text": "oof_No0_256.csv, roc:0.87891\noof_No1_256.csv, roc:0.87277\noof_No2_256.csv, roc:0.89128\noof_No0_384.csv, roc:0.89989\noof_No1_384.csv, roc:0.87027\noof_No1_512.csv, roc:0.87592\noof_No2_512.csv, roc:0.88975\noof_No0_768.csv, roc:0.84800\noof_No2_768.csv, roc:0.86828\noof_No0_256_TTA1.csv, roc:0.87891\noof_No1_256_TTA1.csv, roc:0.87277\noof_No2_256_TTA1.csv, roc:0.89128\noof_No0_384_TTA1.csv, roc:0.89989\noof_No1_384_TTA1.csv, roc:0.87027\noof_No1_512_TTA1.csv, roc:0.87592\noof_No2_512_TTA1.csv, roc:0.88975\noof_No0_768_TTA1.csv, roc:0.84800\noof_No2_768_TTA1.csv, roc:0.86828\navg, roc:0.90530\n(33126, 18) (10982, 18)\n"
    },
    {
     "output_type": "execute_result",
     "data": {
      "text/plain": "         image_name    target\n0      ISIC_0052060  0.001143\n1      ISIC_0052349  0.000433\n2      ISIC_0058510  0.000071\n3      ISIC_0073313  0.000094\n4      ISIC_0073502  0.011223\n...             ...       ...\n10977  ISIC_9992485  0.002102\n10978  ISIC_9996992  0.008063\n10979  ISIC_9997917  0.035766\n10980  ISIC_9998234  0.000747\n10981  ISIC_9999302  0.018287\n\n[10982 rows x 2 columns]",
      "text/html": "<div>\n<style scoped>\n    .dataframe tbody tr th:only-of-type {\n        vertical-align: middle;\n    }\n\n    .dataframe tbody tr th {\n        vertical-align: top;\n    }\n\n    .dataframe thead th {\n        text-align: right;\n    }\n</style>\n<table border=\"1\" class=\"dataframe\">\n  <thead>\n    <tr style=\"text-align: right;\">\n      <th></th>\n      <th>image_name</th>\n      <th>target</th>\n    </tr>\n  </thead>\n  <tbody>\n    <tr>\n      <th>0</th>\n      <td>ISIC_0052060</td>\n      <td>0.001143</td>\n    </tr>\n    <tr>\n      <th>1</th>\n      <td>ISIC_0052349</td>\n      <td>0.000433</td>\n    </tr>\n    <tr>\n      <th>2</th>\n      <td>ISIC_0058510</td>\n      <td>0.000071</td>\n    </tr>\n    <tr>\n      <th>3</th>\n      <td>ISIC_0073313</td>\n      <td>0.000094</td>\n    </tr>\n    <tr>\n      <th>4</th>\n      <td>ISIC_0073502</td>\n      <td>0.011223</td>\n    </tr>\n    <tr>\n      <th>...</th>\n      <td>...</td>\n      <td>...</td>\n    </tr>\n    <tr>\n      <th>10977</th>\n      <td>ISIC_9992485</td>\n      <td>0.002102</td>\n    </tr>\n    <tr>\n      <th>10978</th>\n      <td>ISIC_9996992</td>\n      <td>0.008063</td>\n    </tr>\n    <tr>\n      <th>10979</th>\n      <td>ISIC_9997917</td>\n      <td>0.035766</td>\n    </tr>\n    <tr>\n      <th>10980</th>\n      <td>ISIC_9998234</td>\n      <td>0.000747</td>\n    </tr>\n    <tr>\n      <th>10981</th>\n      <td>ISIC_9999302</td>\n      <td>0.018287</td>\n    </tr>\n  </tbody>\n</table>\n<p>10982 rows × 2 columns</p>\n</div>"
     },
     "metadata": {},
     "execution_count": 4
    }
   ],
   "source": [
    "oof_cols = [f\"oof_{i}\" for i in range(len(oof_list))]\n",
    "oof_df = pd.DataFrame(np.zeros((len(train), len(oof_list))), columns=oof_cols)\n",
    "pred_cols = [f\"pred_{i}\" for i in range(len(oof_list))]\n",
    "pred_df = pd.DataFrame(np.zeros((len(test), len(sub_list))), columns=pred_cols)\n",
    "for i in range(len(oof_list)):\n",
    "    oof_df.iloc[:, i] = pd.read_csv(oof_list[i]).reset_index()[\"0\"]\n",
    "    pred_df.iloc[:, i] = pd.read_csv(sub_list[i]).reset_index()[\"target\"]\n",
    "    roc = roc_auc_score(train[\"target\"].values, oof_df.iloc[:, i].values)\n",
    "    print(f\"{oof_list[i].split('/')[-1]}, roc:{roc:.5f}\")\n",
    "roc = roc_auc_score(train[\"target\"].values, oof_df.mean(axis=1).values)\n",
    "print(f\"avg, roc:{roc:.5f}\")\n",
    "print(oof_df.shape, pred_df.shape)\n",
    "sub = pd.read_csv(f\"../input/jpeg-melanoma-{fig_size}x{fig_size}/sample_submission.csv\")\n",
    "sub[\"target\"] = pred_df.mean(axis=1).values\n",
    "sub.to_csv(f\"../exp/ensemble/submission_avg.csv\", index=False)\n",
    "sub"
   ]
  },
  {
   "cell_type": "code",
   "execution_count": 35,
   "metadata": {},
   "outputs": [
    {
     "output_type": "execute_result",
     "data": {
      "text/plain": "-2.0774668877537872e-16"
     },
     "metadata": {},
     "execution_count": 35
    }
   ],
   "source": [
    "sub0 = pd.read_csv(\"../exp/ensemble/submission_avg.csv\")\n",
    "a = sub[\"target\"] - sub0[\"target\"]\n",
    "a.sum()"
   ]
  },
  {
   "cell_type": "code",
   "execution_count": 25,
   "metadata": {},
   "outputs": [],
   "source": [
    "Y_values = train[\"target\"].values\n",
    "predictions = []\n",
    "lls = []\n",
    "wghts = []\n",
    "# Define the objective function to optimize MSE by using ScyiPy algorithm.\n",
    "def roc_func(weights):\n",
    "    ''' scipy minimize will pass the weights as a numpy array '''\n",
    "    final_prediction = 0\n",
    "    for weight, prediction in zip(weights, predictions):\n",
    "        final_prediction += weight*prediction\n",
    "\n",
    "    return 1.0 - roc_auc_score(Y_values, final_prediction)\n",
    "\n"
   ]
  },
  {
   "cell_type": "code",
   "execution_count": 40,
   "metadata": {},
   "outputs": [
    {
     "output_type": "execute_result",
     "data": {
      "text/plain": "[]"
     },
     "metadata": {},
     "execution_count": 40
    }
   ],
   "source": [
    "lls"
   ]
  },
  {
   "cell_type": "code",
   "execution_count": 41,
   "metadata": {
    "tags": []
   },
   "outputs": [
    {
     "output_type": "stream",
     "name": "stdout",
     "text": "Best Weights: [1.45772178e-01 0.00000000e+00 4.01546397e-01 3.13553659e-01\n 1.11022302e-16 1.39127766e-01 5.55111512e-17 0.00000000e+00\n 2.77555756e-17]\nTrain Ensemble ROC: 0.9086885\nVal Ensemble ROC: 0.9157308\nBest Weights: [2.76606049e-01 1.02954419e-01 3.17384842e-01 1.73673162e-01\n 5.55111512e-17 7.88738386e-02 1.66533454e-16 5.05076894e-02\n 0.00000000e+00]\nTrain Ensemble ROC: 0.9120338\nVal Ensemble ROC: 0.9077630\nBest Weights: [3.13638771e-01 3.05531393e-01 1.89386333e-01 9.61827937e-02\n 1.11022302e-16 0.00000000e+00 9.52607089e-02 0.00000000e+00\n 0.00000000e+00]\nTrain Ensemble ROC: 0.9132113\nVal Ensemble ROC: 0.9049703\nBest Weights: [4.06614112e-01 3.11035099e-01 1.63183096e-01 9.44152945e-02\n 1.11022302e-16 1.11022302e-16 2.47523991e-02 5.55111512e-17\n 1.11022302e-16]\nTrain Ensemble ROC: 0.9086217\nVal Ensemble ROC: 0.9175584\nBest Weights: [0.2731937  0.         0.35442008 0.34555852 0.         0.\n 0.0268277  0.         0.        ]\nTrain Ensemble ROC: 0.9141144\nVal Ensemble ROC: 0.9003101\n"
    }
   ],
   "source": [
    "# Optimization runs 100 times.\n",
    "_weights = []\n",
    "\n",
    "skf = StratifiedKFold(n_splits=5, random_state=SEED, shuffle=True)\n",
    "for i, (train_idx, val_idx) in enumerate(skf.split(oof_df.values, train[\"target\"].values)):\n",
    "    X_train = oof_df.loc[train_idx].values\n",
    "    X_val = oof_df.loc[val_idx].values\n",
    "    y_train = train.loc[train_idx, \"target\"].values\n",
    "    y_val = train.loc[val_idx, \"target\"].values\n",
    "    predictions = []\n",
    "    lls = []\n",
    "    wghts = []\n",
    "    for j in range(oof_df.shape[1]):\n",
    "        predictions.append(np.array(oof_df.iloc[train_idx, j]))\n",
    "    Y_values = train.loc[train_idx, \"target\"].values\n",
    "\n",
    "    def roc_func(weights):\n",
    "        ''' scipy minimize will pass the weights as a numpy array '''\n",
    "        final_prediction = 0\n",
    "        for weight, prediction in zip(weights, predictions):\n",
    "            final_prediction += weight*prediction\n",
    "        return 1.0 - roc_auc_score(Y_values, final_prediction)\n",
    "    \n",
    "    for i in range(100):\n",
    "        starting_values = np.random.uniform(size=oof_df.shape[1])\n",
    "        # cons are given as constraints.\n",
    "        cons = ({'type':'eq','fun':lambda w: 1-sum(w)})\n",
    "        bounds = [(0,1)]*oof_df.shape[1]\n",
    "        \n",
    "        res = minimize(roc_func, starting_values, constraints=cons,\n",
    "                    bounds = bounds, method='SLSQP')\n",
    "        lls.append(res['fun'])\n",
    "        wghts.append(res['x'])\n",
    "    bestSC = np.min(lls)\n",
    "    bestWght = wghts[np.argmin(lls)]\n",
    "    _weights.append(bestWght)\n",
    "    print('Best Weights: {weights:}'.format(weights=bestWght))\n",
    "    print('Train Ensemble ROC: {:.7f}'.format(roc_auc_score(y_train, np.sum(bestWght * X_train, axis=1))))\n",
    "    print('Val   Ensemble ROC: {:.7f}'.format(roc_auc_score(y_val, np.sum(bestWght * X_val, axis=1))))\n",
    "\n",
    "    "
   ]
  },
  {
   "cell_type": "code",
   "execution_count": 49,
   "metadata": {
    "tags": []
   },
   "outputs": [
    {
     "output_type": "stream",
     "name": "stdout",
     "text": "ROC 0.9132924795606606\n"
    },
    {
     "output_type": "execute_result",
     "data": {
      "text/plain": "         image_name    target\n0      ISIC_0052060  0.000342\n1      ISIC_0052349  0.000034\n2      ISIC_0058510  0.000016\n3      ISIC_0073313  0.000020\n4      ISIC_0073502  0.002427\n...             ...       ...\n10977  ISIC_9992485  0.000779\n10978  ISIC_9996992  0.005674\n10979  ISIC_9997917  0.016131\n10980  ISIC_9998234  0.000163\n10981  ISIC_9999302  0.008371\n\n[10982 rows x 2 columns]",
      "text/html": "<div>\n<style scoped>\n    .dataframe tbody tr th:only-of-type {\n        vertical-align: middle;\n    }\n\n    .dataframe tbody tr th {\n        vertical-align: top;\n    }\n\n    .dataframe thead th {\n        text-align: right;\n    }\n</style>\n<table border=\"1\" class=\"dataframe\">\n  <thead>\n    <tr style=\"text-align: right;\">\n      <th></th>\n      <th>image_name</th>\n      <th>target</th>\n    </tr>\n  </thead>\n  <tbody>\n    <tr>\n      <th>0</th>\n      <td>ISIC_0052060</td>\n      <td>0.000342</td>\n    </tr>\n    <tr>\n      <th>1</th>\n      <td>ISIC_0052349</td>\n      <td>0.000034</td>\n    </tr>\n    <tr>\n      <th>2</th>\n      <td>ISIC_0058510</td>\n      <td>0.000016</td>\n    </tr>\n    <tr>\n      <th>3</th>\n      <td>ISIC_0073313</td>\n      <td>0.000020</td>\n    </tr>\n    <tr>\n      <th>4</th>\n      <td>ISIC_0073502</td>\n      <td>0.002427</td>\n    </tr>\n    <tr>\n      <th>...</th>\n      <td>...</td>\n      <td>...</td>\n    </tr>\n    <tr>\n      <th>10977</th>\n      <td>ISIC_9992485</td>\n      <td>0.000779</td>\n    </tr>\n    <tr>\n      <th>10978</th>\n      <td>ISIC_9996992</td>\n      <td>0.005674</td>\n    </tr>\n    <tr>\n      <th>10979</th>\n      <td>ISIC_9997917</td>\n      <td>0.016131</td>\n    </tr>\n    <tr>\n      <th>10980</th>\n      <td>ISIC_9998234</td>\n      <td>0.000163</td>\n    </tr>\n    <tr>\n      <th>10981</th>\n      <td>ISIC_9999302</td>\n      <td>0.008371</td>\n    </tr>\n  </tbody>\n</table>\n<p>10982 rows × 2 columns</p>\n</div>"
     },
     "metadata": {},
     "execution_count": 49
    }
   ],
   "source": [
    "pred = np.sum(np.array(_weights).mean(axis=0)*oof_df.values, axis=1)\n",
    "roc = roc_auc_score(train[\"target\"].values, pred)\n",
    "print(\"ROC\", roc)\n",
    "y_test = np.sum(np.array(_weights).mean(axis=0)*pred_df.values, axis=1)\n",
    "sub[\"target\"] = y_test\n",
    "sub.to_csv(f\"../exp/ensemble/submission_blend.csv\", index=False)\n",
    "sub"
   ]
  },
  {
   "cell_type": "code",
   "execution_count": 5,
   "metadata": {
    "tags": []
   },
   "outputs": [
    {
     "output_type": "stream",
     "name": "stdout",
     "text": "[0]\tvalidation_0-logloss:0.69246\tvalidation_1-logloss:0.69247\nMultiple eval metrics have been passed: 'validation_1-logloss' will be used for early stopping.\n\nWill train until validation_1-logloss hasn't improved in 100 rounds.\n"
    }
   ],
   "source": [
    "# 分類問題として0or1分類をする\n",
    "# X_train, X_val, y_train, y_val = train_test_split(oof_df.values, train[\"target\"].values, test_size=0.2, random_state=SEED)\n",
    "# reg_xgb = GridSearchCV(xgb_model,\n",
    "#                    {'max_depth': [2,4,6],\n",
    "#                     \"scale_pos_weight \": [10, 50, 100],\n",
    "#                     \"reg_lambda\" : [1e-2, 1.0, 1e3],\n",
    "#                     'n_estimators': [50,100,200]},\n",
    "#                     verbose=1,\n",
    "#                     n_jobs=16)\n",
    "# param_dist = {\n",
    "#     'objective':'binary:logistic',\n",
    "#     'n_estimators':64,\n",
    "#     'max_depth': 8,\n",
    "#     'learning_rate': 1e-3,\n",
    "#     'reg_lambda': 1e-1,\n",
    "#     'scale_pos_weight': 100.0,\n",
    "#     'random_state': SEED,\n",
    "#     'num_parallel_tree': 16,   \n",
    "# }\n",
    "\n",
    "\n",
    "# clf = xgb.XGBRFClassifier(**param_dist)\n",
    "# clf.fit(\n",
    "#     X_train, \n",
    "#     y_train,\n",
    "#     eval_set=[(X_train, y_train), (X_val, y_val)],\n",
    "#     eval_metric='logloss',\n",
    "#     verbose=True,\n",
    "#     early_stopping_rounds=100\n",
    "#     )\n",
    "\n",
    "# evals_result = clf.evals_result()\n",
    "# importance = clf.feature_importances_\n",
    "# y_test = clf.predict_proba(pred_df.values)"
   ]
  },
  {
   "cell_type": "code",
   "execution_count": 21,
   "metadata": {
    "tags": [
     "outputPrepend"
    ]
   },
   "outputs": [
    {
     "output_type": "stream",
     "name": "stdout",
     "text": "c:0.69453\n[286]\ttrain-rmse:0.08458\tval-rmse:0.19259\ttrain-roc:0.99994\tval-roc:0.69461\n[287]\ttrain-rmse:0.08432\tval-rmse:0.19253\ttrain-roc:0.99994\tval-roc:0.69450\n[288]\ttrain-rmse:0.08411\tval-rmse:0.19246\ttrain-roc:0.99994\tval-roc:0.69449\n[289]\ttrain-rmse:0.08378\tval-rmse:0.19235\ttrain-roc:0.99994\tval-roc:0.69314\n[290]\ttrain-rmse:0.08354\tval-rmse:0.19230\ttrain-roc:0.99994\tval-roc:0.69334\n[291]\ttrain-rmse:0.08330\tval-rmse:0.19225\ttrain-roc:0.99994\tval-roc:0.69717\n[292]\ttrain-rmse:0.08303\tval-rmse:0.19219\ttrain-roc:0.99994\tval-roc:0.69780\n[293]\ttrain-rmse:0.08286\tval-rmse:0.19219\ttrain-roc:0.99994\tval-roc:0.69772\n[294]\ttrain-rmse:0.08262\tval-rmse:0.19207\ttrain-roc:0.99994\tval-roc:0.69775\n[295]\ttrain-rmse:0.08241\tval-rmse:0.19195\ttrain-roc:0.99994\tval-roc:0.69778\n[296]\ttrain-rmse:0.08235\tval-rmse:0.19190\ttrain-roc:0.99994\tval-roc:0.69804\n[297]\ttrain-rmse:0.08197\tval-rmse:0.19189\ttrain-roc:0.99994\tval-roc:0.69365\n[298]\ttrain-rmse:0.08189\tval-rmse:0.19186\ttrain-roc:0.99994\tval-roc:0.69368\n[299]\ttrain-rmse:0.08174\tval-rmse:0.19182\ttrain-roc:0.99994\tval-roc:0.69342\n[300]\ttrain-rmse:0.08143\tval-rmse:0.19179\ttrain-roc:0.99995\tval-roc:0.69293\n[301]\ttrain-rmse:0.08115\tval-rmse:0.19173\ttrain-roc:0.99995\tval-roc:0.69275\n[302]\ttrain-rmse:0.08098\tval-rmse:0.19169\ttrain-roc:0.99995\tval-roc:0.69245\n[303]\ttrain-rmse:0.08073\tval-rmse:0.19165\ttrain-roc:0.99995\tval-roc:0.69246\n[304]\ttrain-rmse:0.08053\tval-rmse:0.19157\ttrain-roc:0.99995\tval-roc:0.69242\n[305]\ttrain-rmse:0.08035\tval-rmse:0.19151\ttrain-roc:0.99995\tval-roc:0.69237\n[306]\ttrain-rmse:0.08020\tval-rmse:0.19150\ttrain-roc:0.99995\tval-roc:0.69237\n[307]\ttrain-rmse:0.08002\tval-rmse:0.19146\ttrain-roc:0.99995\tval-roc:0.69246\n[308]\ttrain-rmse:0.07991\tval-rmse:0.19145\ttrain-roc:0.99995\tval-roc:0.69261\n[309]\ttrain-rmse:0.07973\tval-rmse:0.19141\ttrain-roc:0.99995\tval-roc:0.69234\n[310]\ttrain-rmse:0.07946\tval-rmse:0.19131\ttrain-roc:0.99995\tval-roc:0.69243\n[311]\ttrain-rmse:0.07924\tval-rmse:0.19132\ttrain-roc:0.99995\tval-roc:0.69198\n[312]\ttrain-rmse:0.07891\tval-rmse:0.19119\ttrain-roc:0.99995\tval-roc:0.69106\n[313]\ttrain-rmse:0.07881\tval-rmse:0.19113\ttrain-roc:0.99995\tval-roc:0.69107\n[314]\ttrain-rmse:0.07865\tval-rmse:0.19110\ttrain-roc:0.99995\tval-roc:0.69129\n[315]\ttrain-rmse:0.07859\tval-rmse:0.19107\ttrain-roc:0.99995\tval-roc:0.69086\n[316]\ttrain-rmse:0.07832\tval-rmse:0.19107\ttrain-roc:0.99995\tval-roc:0.69086\n[317]\ttrain-rmse:0.07817\tval-rmse:0.19103\ttrain-roc:0.99995\tval-roc:0.69136\n[318]\ttrain-rmse:0.07800\tval-rmse:0.19105\ttrain-roc:0.99995\tval-roc:0.69093\n[319]\ttrain-rmse:0.07781\tval-rmse:0.19106\ttrain-roc:0.99995\tval-roc:0.69174\n[320]\ttrain-rmse:0.07765\tval-rmse:0.19107\ttrain-roc:0.99995\tval-roc:0.69106\n[321]\ttrain-rmse:0.07747\tval-rmse:0.19101\ttrain-roc:0.99995\tval-roc:0.69093\n[322]\ttrain-rmse:0.07743\tval-rmse:0.19100\ttrain-roc:0.99995\tval-roc:0.69094\n[323]\ttrain-rmse:0.07731\tval-rmse:0.19095\ttrain-roc:0.99995\tval-roc:0.69202\n[324]\ttrain-rmse:0.07711\tval-rmse:0.19097\ttrain-roc:0.99995\tval-roc:0.69099\n[325]\ttrain-rmse:0.07693\tval-rmse:0.19094\ttrain-roc:0.99995\tval-roc:0.69056\n[326]\ttrain-rmse:0.07679\tval-rmse:0.19090\ttrain-roc:0.99995\tval-roc:0.69037\n[327]\ttrain-rmse:0.07655\tval-rmse:0.19086\ttrain-roc:0.99995\tval-roc:0.69040\n[328]\ttrain-rmse:0.07649\tval-rmse:0.19086\ttrain-roc:0.99995\tval-roc:0.69036\n[329]\ttrain-rmse:0.07623\tval-rmse:0.19088\ttrain-roc:0.99995\tval-roc:0.69024\n[330]\ttrain-rmse:0.07617\tval-rmse:0.19089\ttrain-roc:0.99995\tval-roc:0.69026\n[331]\ttrain-rmse:0.07612\tval-rmse:0.19085\ttrain-roc:0.99995\tval-roc:0.69035\n[332]\ttrain-rmse:0.07582\tval-rmse:0.19080\ttrain-roc:0.99995\tval-roc:0.69048\n[333]\ttrain-rmse:0.07556\tval-rmse:0.19073\ttrain-roc:0.99995\tval-roc:0.68975\n[334]\ttrain-rmse:0.07543\tval-rmse:0.19078\ttrain-roc:0.99995\tval-roc:0.68983\n[335]\ttrain-rmse:0.07536\tval-rmse:0.19075\ttrain-roc:0.99995\tval-roc:0.68998\n[336]\ttrain-rmse:0.07526\tval-rmse:0.19068\ttrain-roc:0.99995\tval-roc:0.68969\n[337]\ttrain-rmse:0.07504\tval-rmse:0.19059\ttrain-roc:0.99995\tval-roc:0.68851\n[338]\ttrain-rmse:0.07498\tval-rmse:0.19056\ttrain-roc:0.99995\tval-roc:0.68875\n[339]\ttrain-rmse:0.07483\tval-rmse:0.19054\ttrain-roc:0.99995\tval-roc:0.68869\n[340]\ttrain-rmse:0.07472\tval-rmse:0.19051\ttrain-roc:0.99995\tval-roc:0.68867\n[341]\ttrain-rmse:0.07463\tval-rmse:0.19044\ttrain-roc:0.99995\tval-roc:0.68851\n[342]\ttrain-rmse:0.07453\tval-rmse:0.19046\ttrain-roc:0.99995\tval-roc:0.68851\n[343]\ttrain-rmse:0.07447\tval-rmse:0.19044\ttrain-roc:0.99995\tval-roc:0.68846\n[344]\ttrain-rmse:0.07434\tval-rmse:0.19038\ttrain-roc:0.99995\tval-roc:0.68843\n[345]\ttrain-rmse:0.07414\tval-rmse:0.19037\ttrain-roc:0.99995\tval-roc:0.68837\n[346]\ttrain-rmse:0.07399\tval-rmse:0.19035\ttrain-roc:0.99995\tval-roc:0.68830\n[347]\ttrain-rmse:0.07380\tval-rmse:0.19041\ttrain-roc:0.99995\tval-roc:0.68770\n[348]\ttrain-rmse:0.07363\tval-rmse:0.19037\ttrain-roc:0.99995\tval-roc:0.68781\n[349]\ttrain-rmse:0.07353\tval-rmse:0.19034\ttrain-roc:0.99995\tval-roc:0.68773\n[350]\ttrain-rmse:0.07340\tval-rmse:0.19037\ttrain-roc:0.99995\tval-roc:0.68751\n[351]\ttrain-rmse:0.07329\tval-rmse:0.19038\ttrain-roc:0.99995\tval-roc:0.68725\n[352]\ttrain-rmse:0.07313\tval-rmse:0.19030\ttrain-roc:0.99995\tval-roc:0.68729\n[353]\ttrain-rmse:0.07302\tval-rmse:0.19024\ttrain-roc:0.99995\tval-roc:0.68730\n[354]\ttrain-rmse:0.07290\tval-rmse:0.19018\ttrain-roc:0.99995\tval-roc:0.68730\n[355]\ttrain-rmse:0.07271\tval-rmse:0.19021\ttrain-roc:0.99995\tval-roc:0.68585\n[356]\ttrain-rmse:0.07257\tval-rmse:0.19018\ttrain-roc:0.99995\tval-roc:0.68578\n[357]\ttrain-rmse:0.07241\tval-rmse:0.19016\ttrain-roc:0.99995\tval-roc:0.68563\n[358]\ttrain-rmse:0.07233\tval-rmse:0.19015\ttrain-roc:0.99995\tval-roc:0.68589\n[359]\ttrain-rmse:0.07219\tval-rmse:0.19014\ttrain-roc:0.99995\tval-roc:0.68553\n[360]\ttrain-rmse:0.07209\tval-rmse:0.19015\ttrain-roc:0.99995\tval-roc:0.68536\n[361]\ttrain-rmse:0.07197\tval-rmse:0.19011\ttrain-roc:0.99995\tval-roc:0.68537\n[362]\ttrain-rmse:0.07184\tval-rmse:0.19010\ttrain-roc:0.99995\tval-roc:0.68532\n[363]\ttrain-rmse:0.07162\tval-rmse:0.19004\ttrain-roc:0.99995\tval-roc:0.68540\n[364]\ttrain-rmse:0.07159\tval-rmse:0.19002\ttrain-roc:0.99995\tval-roc:0.68540\n[365]\ttrain-rmse:0.07149\tval-rmse:0.18997\ttrain-roc:0.99995\tval-roc:0.68585\n[366]\ttrain-rmse:0.07138\tval-rmse:0.18996\ttrain-roc:0.99995\tval-roc:0.68583\n[367]\ttrain-rmse:0.07125\tval-rmse:0.18997\ttrain-roc:0.99995\tval-roc:0.68657\n[368]\ttrain-rmse:0.07111\tval-rmse:0.18996\ttrain-roc:0.99995\tval-roc:0.68632\n[369]\ttrain-rmse:0.07100\tval-rmse:0.18992\ttrain-roc:0.99995\tval-roc:0.68624\n[370]\ttrain-rmse:0.07090\tval-rmse:0.18987\ttrain-roc:0.99995\tval-roc:0.68500\n[371]\ttrain-rmse:0.07073\tval-rmse:0.18988\ttrain-roc:0.99995\tval-roc:0.68456\n[372]\ttrain-rmse:0.07064\tval-rmse:0.18984\ttrain-roc:0.99995\tval-roc:0.68463\n[373]\ttrain-rmse:0.07058\tval-rmse:0.18985\ttrain-roc:0.99995\tval-roc:0.68455\n[374]\ttrain-rmse:0.07049\tval-rmse:0.18985\ttrain-roc:0.99995\tval-roc:0.68439\n[375]\ttrain-rmse:0.07034\tval-rmse:0.18981\ttrain-roc:0.99995\tval-roc:0.68448\n[376]\ttrain-rmse:0.07020\tval-rmse:0.18978\ttrain-roc:0.99995\tval-roc:0.68447\n[377]\ttrain-rmse:0.07006\tval-rmse:0.18973\ttrain-roc:0.99995\tval-roc:0.68439\n[378]\ttrain-rmse:0.06998\tval-rmse:0.18970\ttrain-roc:0.99995\tval-roc:0.68455\n[379]\ttrain-rmse:0.06992\tval-rmse:0.18968\ttrain-roc:0.99995\tval-roc:0.68454\n[380]\ttrain-rmse:0.06980\tval-rmse:0.18965\ttrain-roc:0.99995\tval-roc:0.68438\n[381]\ttrain-rmse:0.06968\tval-rmse:0.18963\ttrain-roc:0.99996\tval-roc:0.68444\n[382]\ttrain-rmse:0.06954\tval-rmse:0.18959\ttrain-roc:0.99996\tval-roc:0.68077\n[383]\ttrain-rmse:0.06944\tval-rmse:0.18955\ttrain-roc:0.99996\tval-roc:0.68012\n[384]\ttrain-rmse:0.06938\tval-rmse:0.18954\ttrain-roc:0.99996\tval-roc:0.68003\n[385]\ttrain-rmse:0.06924\tval-rmse:0.18947\ttrain-roc:0.99996\tval-roc:0.68007\n[386]\ttrain-rmse:0.06920\tval-rmse:0.18945\ttrain-roc:0.99996\tval-roc:0.68032\n[387]\ttrain-rmse:0.06906\tval-rmse:0.18943\ttrain-roc:0.99996\tval-roc:0.68038\n[388]\ttrain-rmse:0.06899\tval-rmse:0.18943\ttrain-roc:0.99996\tval-roc:0.68028\n[389]\ttrain-rmse:0.06886\tval-rmse:0.18940\ttrain-roc:0.99996\tval-roc:0.68044\n[390]\ttrain-rmse:0.06880\tval-rmse:0.18940\ttrain-roc:0.99996\tval-roc:0.68050\n[391]\ttrain-rmse:0.06874\tval-rmse:0.18938\ttrain-roc:0.99996\tval-roc:0.68049\n[392]\ttrain-rmse:0.06862\tval-rmse:0.18938\ttrain-roc:0.99996\tval-roc:0.68052\n[393]\ttrain-rmse:0.06852\tval-rmse:0.18934\ttrain-roc:0.99996\tval-roc:0.68052\n[394]\ttrain-rmse:0.06842\tval-rmse:0.18932\ttrain-roc:0.99996\tval-roc:0.68047\n[395]\ttrain-rmse:0.06834\tval-rmse:0.18931\ttrain-roc:0.99996\tval-roc:0.68055\n[396]\ttrain-rmse:0.06823\tval-rmse:0.18926\ttrain-roc:0.99996\tval-roc:0.67682\n[397]\ttrain-rmse:0.06816\tval-rmse:0.18924\ttrain-roc:0.99996\tval-roc:0.67658\n[398]\ttrain-rmse:0.06803\tval-rmse:0.18927\ttrain-roc:0.99996\tval-roc:0.67162\n[399]\ttrain-rmse:0.06794\tval-rmse:0.18925\ttrain-roc:0.99996\tval-roc:0.67187\n[400]\ttrain-rmse:0.06785\tval-rmse:0.18930\ttrain-roc:0.99996\tval-roc:0.67168\n[401]\ttrain-rmse:0.06782\tval-rmse:0.18929\ttrain-roc:0.99996\tval-roc:0.67236\n[402]\ttrain-rmse:0.06770\tval-rmse:0.18926\ttrain-roc:0.99996\tval-roc:0.66820\n[403]\ttrain-rmse:0.06763\tval-rmse:0.18924\ttrain-roc:0.99996\tval-roc:0.66782\n[404]\ttrain-rmse:0.06755\tval-rmse:0.18919\ttrain-roc:0.99996\tval-roc:0.66809\n[405]\ttrain-rmse:0.06748\tval-rmse:0.18917\ttrain-roc:0.99996\tval-roc:0.66803\n[406]\ttrain-rmse:0.06735\tval-rmse:0.18915\ttrain-roc:0.99996\tval-roc:0.66757\n[407]\ttrain-rmse:0.06727\tval-rmse:0.18916\ttrain-roc:0.99996\tval-roc:0.66825\n[408]\ttrain-rmse:0.06717\tval-rmse:0.18920\ttrain-roc:0.99996\tval-roc:0.66798\n[409]\ttrain-rmse:0.06710\tval-rmse:0.18923\ttrain-roc:0.99996\tval-roc:0.66783\n[410]\ttrain-rmse:0.06703\tval-rmse:0.18922\ttrain-roc:0.99996\tval-roc:0.66702\n[411]\ttrain-rmse:0.06693\tval-rmse:0.18918\ttrain-roc:0.99996\tval-roc:0.66839\n[412]\ttrain-rmse:0.06686\tval-rmse:0.18915\ttrain-roc:0.99996\tval-roc:0.66914\n[413]\ttrain-rmse:0.06667\tval-rmse:0.18912\ttrain-roc:0.99996\tval-roc:0.66679\n[414]\ttrain-rmse:0.06663\tval-rmse:0.18911\ttrain-roc:0.99996\tval-roc:0.66758\n[415]\ttrain-rmse:0.06655\tval-rmse:0.18913\ttrain-roc:0.99996\tval-roc:0.66754\n[416]\ttrain-rmse:0.06646\tval-rmse:0.18911\ttrain-roc:0.99996\tval-roc:0.66760\n[417]\ttrain-rmse:0.06636\tval-rmse:0.18908\ttrain-roc:0.99996\tval-roc:0.66782\n[418]\ttrain-rmse:0.06623\tval-rmse:0.18914\ttrain-roc:0.99996\tval-roc:0.66747\n[419]\ttrain-rmse:0.06616\tval-rmse:0.18913\ttrain-roc:0.99996\tval-roc:0.66741\n[420]\ttrain-rmse:0.06614\tval-rmse:0.18912\ttrain-roc:0.99996\tval-roc:0.66908\n[421]\ttrain-rmse:0.06606\tval-rmse:0.18911\ttrain-roc:0.99996\tval-roc:0.66910\n[422]\ttrain-rmse:0.06599\tval-rmse:0.18910\ttrain-roc:0.99996\tval-roc:0.66900\n[423]\ttrain-rmse:0.06591\tval-rmse:0.18912\ttrain-roc:0.99996\tval-roc:0.66861\n[424]\ttrain-rmse:0.06578\tval-rmse:0.18909\ttrain-roc:0.99996\tval-roc:0.66861\n[425]\ttrain-rmse:0.06565\tval-rmse:0.18904\ttrain-roc:0.99996\tval-roc:0.66914\n[426]\ttrain-rmse:0.06561\tval-rmse:0.18902\ttrain-roc:0.99996\tval-roc:0.66916\n[427]\ttrain-rmse:0.06552\tval-rmse:0.18901\ttrain-roc:0.99996\tval-roc:0.67002\n[428]\ttrain-rmse:0.06544\tval-rmse:0.18898\ttrain-roc:0.99996\tval-roc:0.66994\n[429]\ttrain-rmse:0.06540\tval-rmse:0.18897\ttrain-roc:0.99996\tval-roc:0.67064\n[430]\ttrain-rmse:0.06537\tval-rmse:0.18897\ttrain-roc:0.99996\tval-roc:0.67060\n[431]\ttrain-rmse:0.06533\tval-rmse:0.18896\ttrain-roc:0.99996\tval-roc:0.67026\n[432]\ttrain-rmse:0.06520\tval-rmse:0.18897\ttrain-roc:0.99996\tval-roc:0.67029\n[433]\ttrain-rmse:0.06512\tval-rmse:0.18895\ttrain-roc:0.99996\tval-roc:0.67033\n[434]\ttrain-rmse:0.06504\tval-rmse:0.18893\ttrain-roc:0.99996\tval-roc:0.67010\n[435]\ttrain-rmse:0.06498\tval-rmse:0.18890\ttrain-roc:0.99996\tval-roc:0.67015\n[436]\ttrain-rmse:0.06494\tval-rmse:0.18890\ttrain-roc:0.99996\tval-roc:0.67012\n[437]\ttrain-rmse:0.06487\tval-rmse:0.18890\ttrain-roc:0.99996\tval-roc:0.67018\n[438]\ttrain-rmse:0.06475\tval-rmse:0.18886\ttrain-roc:0.99996\tval-roc:0.67021\n[439]\ttrain-rmse:0.06467\tval-rmse:0.18885\ttrain-roc:0.99996\tval-roc:0.66981\n[440]\ttrain-rmse:0.06459\tval-rmse:0.18884\ttrain-roc:0.99996\tval-roc:0.66953\n[441]\ttrain-rmse:0.06453\tval-rmse:0.18882\ttrain-roc:0.99996\tval-roc:0.66954\n[442]\ttrain-rmse:0.06449\tval-rmse:0.18880\ttrain-roc:0.99996\tval-roc:0.66957\n[443]\ttrain-rmse:0.06443\tval-rmse:0.18878\ttrain-roc:0.99996\tval-roc:0.66952\n[444]\ttrain-rmse:0.06436\tval-rmse:0.18875\ttrain-roc:0.99996\tval-roc:0.66980\n[445]\ttrain-rmse:0.06429\tval-rmse:0.18875\ttrain-roc:0.99996\tval-roc:0.66978\n[446]\ttrain-rmse:0.06424\tval-rmse:0.18873\ttrain-roc:0.99996\tval-roc:0.66978\n[447]\ttrain-rmse:0.06416\tval-rmse:0.18873\ttrain-roc:0.99996\tval-roc:0.66902\n[448]\ttrain-rmse:0.06410\tval-rmse:0.18871\ttrain-roc:0.99996\tval-roc:0.66907\n[449]\ttrain-rmse:0.06406\tval-rmse:0.18870\ttrain-roc:0.99996\tval-roc:0.66870\n[450]\ttrain-rmse:0.06400\tval-rmse:0.18872\ttrain-roc:0.99996\tval-roc:0.66789\n[451]\ttrain-rmse:0.06394\tval-rmse:0.18871\ttrain-roc:0.99996\tval-roc:0.66794\n[452]\ttrain-rmse:0.06389\tval-rmse:0.18870\ttrain-roc:0.99996\tval-roc:0.66805\n[453]\ttrain-rmse:0.06385\tval-rmse:0.18868\ttrain-roc:0.99996\tval-roc:0.66812\n[454]\ttrain-rmse:0.06382\tval-rmse:0.18866\ttrain-roc:0.99996\tval-roc:0.66873\n[455]\ttrain-rmse:0.06377\tval-rmse:0.18866\ttrain-roc:0.99996\tval-roc:0.66870\n[456]\ttrain-rmse:0.06372\tval-rmse:0.18865\ttrain-roc:0.99996\tval-roc:0.66843\n[457]\ttrain-rmse:0.06368\tval-rmse:0.18862\ttrain-roc:0.99996\tval-roc:0.66855\n[458]\ttrain-rmse:0.06364\tval-rmse:0.18862\ttrain-roc:0.99996\tval-roc:0.66519\n[459]\ttrain-rmse:0.06360\tval-rmse:0.18866\ttrain-roc:0.99996\tval-roc:0.66507\n[460]\ttrain-rmse:0.06358\tval-rmse:0.18866\ttrain-roc:0.99996\tval-roc:0.66378\n[461]\ttrain-rmse:0.06353\tval-rmse:0.18863\ttrain-roc:0.99996\tval-roc:0.66382\n[462]\ttrain-rmse:0.06348\tval-rmse:0.18861\ttrain-roc:0.99996\tval-roc:0.66402\n[463]\ttrain-rmse:0.06343\tval-rmse:0.18863\ttrain-roc:0.99996\tval-roc:0.65928\n[464]\ttrain-rmse:0.06337\tval-rmse:0.18861\ttrain-roc:0.99996\tval-roc:0.65941\n[465]\ttrain-rmse:0.06332\tval-rmse:0.18859\ttrain-roc:0.99996\tval-roc:0.65942\n[466]\ttrain-rmse:0.06322\tval-rmse:0.18855\ttrain-roc:0.99996\tval-roc:0.65942\n[467]\ttrain-rmse:0.06318\tval-rmse:0.18853\ttrain-roc:0.99996\tval-roc:0.65935\n[468]\ttrain-rmse:0.06308\tval-rmse:0.18853\ttrain-roc:0.99996\tval-roc:0.65918\n[469]\ttrain-rmse:0.06300\tval-rmse:0.18852\ttrain-roc:0.99996\tval-roc:0.65935\n[470]\ttrain-rmse:0.06291\tval-rmse:0.18849\ttrain-roc:0.99996\tval-roc:0.65970\n[471]\ttrain-rmse:0.06285\tval-rmse:0.18849\ttrain-roc:0.99996\tval-roc:0.65969\n[472]\ttrain-rmse:0.06278\tval-rmse:0.18849\ttrain-roc:0.99996\tval-roc:0.65880\n[473]\ttrain-rmse:0.06275\tval-rmse:0.18848\ttrain-roc:0.99996\tval-roc:0.65884\n[474]\ttrain-rmse:0.06271\tval-rmse:0.18849\ttrain-roc:0.99996\tval-roc:0.65718\n[475]\ttrain-rmse:0.06269\tval-rmse:0.18848\ttrain-roc:0.99996\tval-roc:0.65706\n[476]\ttrain-rmse:0.06266\tval-rmse:0.18847\ttrain-roc:0.99996\tval-roc:0.65702\n[477]\ttrain-rmse:0.06262\tval-rmse:0.18848\ttrain-roc:0.99996\tval-roc:0.65687\n[478]\ttrain-rmse:0.06253\tval-rmse:0.18846\ttrain-roc:0.99996\tval-roc:0.65682\n[479]\ttrain-rmse:0.06247\tval-rmse:0.18842\ttrain-roc:0.99996\tval-roc:0.65674\n[480]\ttrain-rmse:0.06243\tval-rmse:0.18843\ttrain-roc:0.99996\tval-roc:0.65670\n[481]\ttrain-rmse:0.06239\tval-rmse:0.18842\ttrain-roc:0.99996\tval-roc:0.65655\n[482]\ttrain-rmse:0.06236\tval-rmse:0.18841\ttrain-roc:0.99996\tval-roc:0.65550\n[483]\ttrain-rmse:0.06233\tval-rmse:0.18839\ttrain-roc:0.99996\tval-roc:0.65527\n[484]\ttrain-rmse:0.06231\tval-rmse:0.18839\ttrain-roc:0.99996\tval-roc:0.65523\n[485]\ttrain-rmse:0.06224\tval-rmse:0.18836\ttrain-roc:0.99996\tval-roc:0.65513\n[486]\ttrain-rmse:0.06222\tval-rmse:0.18836\ttrain-roc:0.99996\tval-roc:0.65485\n[487]\ttrain-rmse:0.06213\tval-rmse:0.18837\ttrain-roc:0.99996\tval-roc:0.65473\n[488]\ttrain-rmse:0.06210\tval-rmse:0.18838\ttrain-roc:0.99996\tval-roc:0.65470\n[489]\ttrain-rmse:0.06202\tval-rmse:0.18837\ttrain-roc:0.99996\tval-roc:0.65474\n[490]\ttrain-rmse:0.06195\tval-rmse:0.18837\ttrain-roc:0.99996\tval-roc:0.65467\n[491]\ttrain-rmse:0.06189\tval-rmse:0.18838\ttrain-roc:0.99996\tval-roc:0.65463\n[492]\ttrain-rmse:0.06185\tval-rmse:0.18837\ttrain-roc:0.99996\tval-roc:0.65477\n[493]\ttrain-rmse:0.06180\tval-rmse:0.18836\ttrain-roc:0.99996\tval-roc:0.65467\n[494]\ttrain-rmse:0.06174\tval-rmse:0.18834\ttrain-roc:0.99996\tval-roc:0.65463\n[495]\ttrain-rmse:0.06171\tval-rmse:0.18834\ttrain-roc:0.99996\tval-roc:0.65341\n[496]\ttrain-rmse:0.06164\tval-rmse:0.18832\ttrain-roc:0.99996\tval-roc:0.65597\n[497]\ttrain-rmse:0.06157\tval-rmse:0.18830\ttrain-roc:0.99996\tval-roc:0.65584\n[498]\ttrain-rmse:0.06151\tval-rmse:0.18831\ttrain-roc:0.99996\tval-roc:0.65565\n[499]\ttrain-rmse:0.06146\tval-rmse:0.18830\ttrain-roc:0.99996\tval-roc:0.65535\n[500]\ttrain-rmse:0.06139\tval-rmse:0.18829\ttrain-roc:0.99996\tval-roc:0.65535\n[501]\ttrain-rmse:0.06133\tval-rmse:0.18829\ttrain-roc:0.99996\tval-roc:0.65455\n[502]\ttrain-rmse:0.06129\tval-rmse:0.18827\ttrain-roc:0.99996\tval-roc:0.65592\n[503]\ttrain-rmse:0.06125\tval-rmse:0.18826\ttrain-roc:0.99996\tval-roc:0.65590\n[504]\ttrain-rmse:0.06121\tval-rmse:0.18825\ttrain-roc:0.99996\tval-roc:0.65583\n[505]\ttrain-rmse:0.06117\tval-rmse:0.18824\ttrain-roc:0.99996\tval-roc:0.65674\n[506]\ttrain-rmse:0.06113\tval-rmse:0.18824\ttrain-roc:0.99996\tval-roc:0.65664\n[507]\ttrain-rmse:0.06107\tval-rmse:0.18823\ttrain-roc:0.99996\tval-roc:0.65569\n[508]\ttrain-rmse:0.06101\tval-rmse:0.18822\ttrain-roc:0.99996\tval-roc:0.65584\n[509]\ttrain-rmse:0.06096\tval-rmse:0.18822\ttrain-roc:0.99996\tval-roc:0.65579\n[510]\ttrain-rmse:0.06090\tval-rmse:0.18821\ttrain-roc:0.99996\tval-roc:0.65471\n[511]\ttrain-rmse:0.06085\tval-rmse:0.18820\ttrain-roc:0.99996\tval-roc:0.65463\n[512]\ttrain-rmse:0.06082\tval-rmse:0.18819\ttrain-roc:0.99996\tval-roc:0.65459\n[513]\ttrain-rmse:0.06079\tval-rmse:0.18818\ttrain-roc:0.99996\tval-roc:0.65451\n[514]\ttrain-rmse:0.06076\tval-rmse:0.18817\ttrain-roc:0.99996\tval-roc:0.65410\n[515]\ttrain-rmse:0.06071\tval-rmse:0.18816\ttrain-roc:0.99996\tval-roc:0.65394\n[516]\ttrain-rmse:0.06071\tval-rmse:0.18817\ttrain-roc:0.99996\tval-roc:0.65395\n[517]\ttrain-rmse:0.06068\tval-rmse:0.18815\ttrain-roc:0.99996\tval-roc:0.65407\n[518]\ttrain-rmse:0.06065\tval-rmse:0.18814\ttrain-roc:0.99996\tval-roc:0.65409\n[519]\ttrain-rmse:0.06062\tval-rmse:0.18814\ttrain-roc:0.99996\tval-roc:0.65411\n[520]\ttrain-rmse:0.06061\tval-rmse:0.18814\ttrain-roc:0.99996\tval-roc:0.65402\n[521]\ttrain-rmse:0.06053\tval-rmse:0.18813\ttrain-roc:0.99996\tval-roc:0.65386\n[522]\ttrain-rmse:0.06046\tval-rmse:0.18811\ttrain-roc:0.99996\tval-roc:0.65373\n[523]\ttrain-rmse:0.06046\tval-rmse:0.18811\ttrain-roc:0.99996\tval-roc:0.65373\n[524]\ttrain-rmse:0.06042\tval-rmse:0.18808\ttrain-roc:0.99996\tval-roc:0.65504\n[525]\ttrain-rmse:0.06039\tval-rmse:0.18808\ttrain-roc:0.99996\tval-roc:0.65504\n[526]\ttrain-rmse:0.06032\tval-rmse:0.18809\ttrain-roc:0.99996\tval-roc:0.65501\n[527]\ttrain-rmse:0.06030\tval-rmse:0.18810\ttrain-roc:0.99996\tval-roc:0.65510\n[528]\ttrain-rmse:0.06027\tval-rmse:0.18809\ttrain-roc:0.99996\tval-roc:0.65505\n[529]\ttrain-rmse:0.06023\tval-rmse:0.18807\ttrain-roc:0.99996\tval-roc:0.65505\n[530]\ttrain-rmse:0.06019\tval-rmse:0.18809\ttrain-roc:0.99996\tval-roc:0.65495\n[531]\ttrain-rmse:0.06016\tval-rmse:0.18810\ttrain-roc:0.99996\tval-roc:0.65490\n[532]\ttrain-rmse:0.06013\tval-rmse:0.18808\ttrain-roc:0.99996\tval-roc:0.65512\n[533]\ttrain-rmse:0.06008\tval-rmse:0.18807\ttrain-roc:0.99996\tval-roc:0.65615\n[534]\ttrain-rmse:0.06003\tval-rmse:0.18809\ttrain-roc:0.99996\tval-roc:0.65598\n[535]\ttrain-rmse:0.05998\tval-rmse:0.18806\ttrain-roc:0.99996\tval-roc:0.65591\n[536]\ttrain-rmse:0.05994\tval-rmse:0.18806\ttrain-roc:0.99996\tval-roc:0.65590\n[537]\ttrain-rmse:0.05990\tval-rmse:0.18804\ttrain-roc:0.99996\tval-roc:0.65582\n[538]\ttrain-rmse:0.05985\tval-rmse:0.18804\ttrain-roc:0.99996\tval-roc:0.65500\n[539]\ttrain-rmse:0.05980\tval-rmse:0.18802\ttrain-roc:0.99996\tval-roc:0.65457\n[540]\ttrain-rmse:0.05977\tval-rmse:0.18804\ttrain-roc:0.99996\tval-roc:0.65610\n[541]\ttrain-rmse:0.05975\tval-rmse:0.18805\ttrain-roc:0.99996\tval-roc:0.65604\n[542]\ttrain-rmse:0.05971\tval-rmse:0.18805\ttrain-roc:0.99996\tval-roc:0.65599\n[543]\ttrain-rmse:0.05966\tval-rmse:0.18802\ttrain-roc:0.99996\tval-roc:0.65611\n[544]\ttrain-rmse:0.05963\tval-rmse:0.18802\ttrain-roc:0.99996\tval-roc:0.65604\n[545]\ttrain-rmse:0.05961\tval-rmse:0.18801\ttrain-roc:0.99996\tval-roc:0.65608\nStopping. Best iteration:\n[495]\ttrain-rmse:0.06171\tval-rmse:0.18834\ttrain-roc:0.99996\tval-roc:0.65341\n\n[02:02:16] WARNING: /workspace/src/objective/regression_obj.cu:170: reg:linear is now deprecated in favor of reg:squarederror.\n"
    },
    {
     "output_type": "error",
     "ename": "AttributeError",
     "evalue": "'Booster' object has no attribute 'feature_importances_'",
     "traceback": [
      "\u001b[0;31m---------------------------------------------------------------------------\u001b[0m",
      "\u001b[0;31mAttributeError\u001b[0m                            Traceback (most recent call last)",
      "\u001b[0;32m<ipython-input-21-9a3ddbd0f999>\u001b[0m in \u001b[0;36m<module>\u001b[0;34m\u001b[0m\n\u001b[1;32m     28\u001b[0m                     )\n\u001b[1;32m     29\u001b[0m \u001b[0;34m\u001b[0m\u001b[0m\n\u001b[0;32m---> 30\u001b[0;31m \u001b[0mimportance\u001b[0m \u001b[0;34m=\u001b[0m \u001b[0mbst\u001b[0m\u001b[0;34m.\u001b[0m\u001b[0mfeature_importances_\u001b[0m\u001b[0;34m\u001b[0m\u001b[0;34m\u001b[0m\u001b[0m\n\u001b[0m\u001b[1;32m     31\u001b[0m \u001b[0my_pred_proba\u001b[0m \u001b[0;34m=\u001b[0m \u001b[0mbst\u001b[0m\u001b[0;34m.\u001b[0m\u001b[0mpredict\u001b[0m\u001b[0;34m(\u001b[0m\u001b[0mdtest\u001b[0m\u001b[0;34m)\u001b[0m\u001b[0;34m\u001b[0m\u001b[0;34m\u001b[0m\u001b[0m\n",
      "\u001b[0;31mAttributeError\u001b[0m: 'Booster' object has no attribute 'feature_importances_'"
     ]
    }
   ],
   "source": [
    "# 分類問題として0or1分類をする\n",
    "X_train, X_val, y_train, y_val = train_test_split(oof_df.values, train[\"target\"].values, test_size=0.2, random_state=SEED)\n",
    "param_dist = {\n",
    "    'objective':'reg:squarederror',\n",
    "    # 'n_estimators':64,\n",
    "    'max_depth': 8,\n",
    "    'learning_rate': 1e-1,\n",
    "    'reg_lambda': 1e-1,\n",
    "    'scale_pos_weight': 100.0,\n",
    "    'random_state': SEED,\n",
    "    'num_parallel_tree': 16,\n",
    "    'eta': 0.1,\n",
    "    'max_delta_step': 2.0\n",
    "}\n",
    "\n",
    "dtrain = xgb.DMatrix(X_train, label=y_train)\n",
    "dval = xgb.DMatrix(X_val, label=y_val)\n",
    "evals = [(dtrain, 'train'), (dval, 'val')]\n",
    "evals_result = {}\n",
    "bst = xgb.train(param_dist,\n",
    "                dtrain,\n",
    "                num_boost_round=1000,\n",
    "                early_stopping_rounds=50,\n",
    "                evals=evals,\n",
    "                evals_result=evals_result,\n",
    "                feval=feval,\n",
    "                )\n",
    "\n",
    "importance = bst.feature_importances_\n",
    "y_pred_proba = bst.predict(dtest)"
   ]
  },
  {
   "cell_type": "code",
   "execution_count": null,
   "metadata": {
    "tags": []
   },
   "outputs": [],
   "source": [
    "y_test = clf.predict(pred_df.values)\n",
    "print(y_test.shape)\n",
    "sub = pd.read_csv(f\"../input/jpeg-melanoma-{fig_size}x{fig_size}/sample_submission.csv\")\n",
    "sub[\"target\"] = y_test\n",
    "sub.to_csv(f\"../exp/ensemble/submission_xgblogit.csv\", index=False)\n",
    "sub\n",
    "# kaggle competitions submit -c siim-isic-melanoma-classification -f exp/ensemble/submission_xgblogit.csv -m \"Message\""
   ]
  },
  {
   "cell_type": "code",
   "execution_count": 19,
   "metadata": {},
   "outputs": [],
   "source": []
  },
  {
   "cell_type": "code",
   "execution_count": null,
   "metadata": {},
   "outputs": [],
   "source": [
    "param_dist = {\n",
    "    'objective':'reg:linear',\n",
    "    # 'n_estimators':64,\n",
    "    'max_depth': 8,\n",
    "    'learning_rate': 1e-1,\n",
    "    'reg_lambda': 1e-1,\n",
    "    'scale_pos_weight': 100.0,\n",
    "    'lambda\t': 10.0,\n",
    "    'random_state': SEED,\n",
    "    'num_parallel_tree': 16,\n",
    "    'eta': 0.1,\n",
    "    'max_delta_step': 10.0\n",
    "}\n",
    "skf = StratifiedKFold(n_splits=5, random_state=SEED, shuffle=True)\n",
    "importance_df = pd.DataFrame(np.zeros((5, len(oof_list))), columns=oof_cols)\n",
    "for i, (train_idx, val_idx) in enumerate(skf.split(oof_df.values, train[\"target\"].values)):\n",
    "    X_train = oof_df.loc[train_idx].values\n",
    "    X_val = oof_df.loc[val_idx].values\n",
    "    y_train = train.loc[train_idx, \"target\"].values\n",
    "    y_val = train.loc[val_idx, \"target\"].values\n",
    "\n",
    "    dtrain = xgb.DMatrix(X_train, label=y_train)\n",
    "    dval = xgb.DMatrix(X_val, label=y_val)\n",
    "    evals = [(dtrain, 'train'), (dval, 'val')]\n",
    "    evals_result = {}\n",
    "    bst = xgb.train(param_dist,\n",
    "                    dtrain,\n",
    "                    num_boost_round=1000,\n",
    "                    early_stopping_rounds=50,\n",
    "                    evals=evals,\n",
    "                    evals_result=evals_result,\n",
    "                    feval=feval,\n",
    "                    )\n",
    "\n",
    "    importance_df.iloc[i] = bst.feature_importances_\n",
    "    y_pred_proba = bst.predict(dtest)"
   ]
  }
 ]
}